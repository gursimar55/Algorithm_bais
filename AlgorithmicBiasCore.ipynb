{
 "cells": [
  {
   "cell_type": "markdown",
   "metadata": {},
   "source": [
    "# Algorithmic Bias \n"
   ]
  },
  {
   "cell_type": "code",
   "execution_count": 1,
   "metadata": {},
   "outputs": [],
   "source": [
    "import numpy as np\n",
    "import pandas as pd\n",
    "\n",
    "from sklearn import datasets\n",
    "from sklearn.model_selection import train_test_split\n",
    "bcDB = datasets.load_breast_cancer()"
   ]
  },
  {
   "cell_type": "code",
   "execution_count": 2,
   "metadata": {},
   "outputs": [
    {
     "data": {
      "text/html": [
       "<div>\n",
       "<style scoped>\n",
       "    .dataframe tbody tr th:only-of-type {\n",
       "        vertical-align: middle;\n",
       "    }\n",
       "\n",
       "    .dataframe tbody tr th {\n",
       "        vertical-align: top;\n",
       "    }\n",
       "\n",
       "    .dataframe thead th {\n",
       "        text-align: right;\n",
       "    }\n",
       "</style>\n",
       "<table border=\"1\" class=\"dataframe\">\n",
       "  <thead>\n",
       "    <tr style=\"text-align: right;\">\n",
       "      <th></th>\n",
       "      <th>mean radius</th>\n",
       "      <th>mean texture</th>\n",
       "      <th>mean perimeter</th>\n",
       "      <th>mean area</th>\n",
       "      <th>mean smoothness</th>\n",
       "      <th>mean compactness</th>\n",
       "      <th>mean concavity</th>\n",
       "      <th>mean concave points</th>\n",
       "      <th>mean symmetry</th>\n",
       "      <th>mean fractal dimension</th>\n",
       "      <th>...</th>\n",
       "      <th>worst texture</th>\n",
       "      <th>worst perimeter</th>\n",
       "      <th>worst area</th>\n",
       "      <th>worst smoothness</th>\n",
       "      <th>worst compactness</th>\n",
       "      <th>worst concavity</th>\n",
       "      <th>worst concave points</th>\n",
       "      <th>worst symmetry</th>\n",
       "      <th>worst fractal dimension</th>\n",
       "      <th>target</th>\n",
       "    </tr>\n",
       "  </thead>\n",
       "  <tbody>\n",
       "    <tr>\n",
       "      <th>0</th>\n",
       "      <td>17.99</td>\n",
       "      <td>10.38</td>\n",
       "      <td>122.80</td>\n",
       "      <td>1001.0</td>\n",
       "      <td>0.1184</td>\n",
       "      <td>0.2776</td>\n",
       "      <td>0.3001</td>\n",
       "      <td>0.14710</td>\n",
       "      <td>0.2419</td>\n",
       "      <td>0.07871</td>\n",
       "      <td>...</td>\n",
       "      <td>17.33</td>\n",
       "      <td>184.6</td>\n",
       "      <td>2019.0</td>\n",
       "      <td>0.1622</td>\n",
       "      <td>0.6656</td>\n",
       "      <td>0.7119</td>\n",
       "      <td>0.2654</td>\n",
       "      <td>0.4601</td>\n",
       "      <td>0.11890</td>\n",
       "      <td>0</td>\n",
       "    </tr>\n",
       "    <tr>\n",
       "      <th>1</th>\n",
       "      <td>14.22</td>\n",
       "      <td>23.12</td>\n",
       "      <td>94.37</td>\n",
       "      <td>609.9</td>\n",
       "      <td>0.1075</td>\n",
       "      <td>0.2413</td>\n",
       "      <td>0.1981</td>\n",
       "      <td>0.06618</td>\n",
       "      <td>0.2384</td>\n",
       "      <td>0.07542</td>\n",
       "      <td>...</td>\n",
       "      <td>37.18</td>\n",
       "      <td>106.4</td>\n",
       "      <td>762.4</td>\n",
       "      <td>0.1533</td>\n",
       "      <td>0.9327</td>\n",
       "      <td>0.8488</td>\n",
       "      <td>0.1772</td>\n",
       "      <td>0.5166</td>\n",
       "      <td>0.14460</td>\n",
       "      <td>0</td>\n",
       "    </tr>\n",
       "    <tr>\n",
       "      <th>2</th>\n",
       "      <td>12.34</td>\n",
       "      <td>26.86</td>\n",
       "      <td>81.15</td>\n",
       "      <td>477.4</td>\n",
       "      <td>0.1034</td>\n",
       "      <td>0.1353</td>\n",
       "      <td>0.1085</td>\n",
       "      <td>0.04562</td>\n",
       "      <td>0.1943</td>\n",
       "      <td>0.06937</td>\n",
       "      <td>...</td>\n",
       "      <td>39.34</td>\n",
       "      <td>101.7</td>\n",
       "      <td>768.9</td>\n",
       "      <td>0.1785</td>\n",
       "      <td>0.4706</td>\n",
       "      <td>0.4425</td>\n",
       "      <td>0.1459</td>\n",
       "      <td>0.3215</td>\n",
       "      <td>0.12050</td>\n",
       "      <td>0</td>\n",
       "    </tr>\n",
       "    <tr>\n",
       "      <th>3</th>\n",
       "      <td>14.86</td>\n",
       "      <td>23.21</td>\n",
       "      <td>100.40</td>\n",
       "      <td>671.4</td>\n",
       "      <td>0.1044</td>\n",
       "      <td>0.1980</td>\n",
       "      <td>0.1697</td>\n",
       "      <td>0.08878</td>\n",
       "      <td>0.1737</td>\n",
       "      <td>0.06672</td>\n",
       "      <td>...</td>\n",
       "      <td>27.78</td>\n",
       "      <td>118.6</td>\n",
       "      <td>784.7</td>\n",
       "      <td>0.1316</td>\n",
       "      <td>0.4648</td>\n",
       "      <td>0.4589</td>\n",
       "      <td>0.1727</td>\n",
       "      <td>0.3000</td>\n",
       "      <td>0.08701</td>\n",
       "      <td>0</td>\n",
       "    </tr>\n",
       "    <tr>\n",
       "      <th>4</th>\n",
       "      <td>13.77</td>\n",
       "      <td>22.29</td>\n",
       "      <td>90.63</td>\n",
       "      <td>588.9</td>\n",
       "      <td>0.1200</td>\n",
       "      <td>0.1267</td>\n",
       "      <td>0.1385</td>\n",
       "      <td>0.06526</td>\n",
       "      <td>0.1834</td>\n",
       "      <td>0.06877</td>\n",
       "      <td>...</td>\n",
       "      <td>34.01</td>\n",
       "      <td>111.6</td>\n",
       "      <td>806.9</td>\n",
       "      <td>0.1737</td>\n",
       "      <td>0.3122</td>\n",
       "      <td>0.3809</td>\n",
       "      <td>0.1673</td>\n",
       "      <td>0.3080</td>\n",
       "      <td>0.09333</td>\n",
       "      <td>0</td>\n",
       "    </tr>\n",
       "  </tbody>\n",
       "</table>\n",
       "<p>5 rows × 31 columns</p>\n",
       "</div>"
      ],
      "text/plain": [
       "   mean radius  mean texture  mean perimeter  mean area  mean smoothness  \\\n",
       "0        17.99         10.38          122.80     1001.0           0.1184   \n",
       "1        14.22         23.12           94.37      609.9           0.1075   \n",
       "2        12.34         26.86           81.15      477.4           0.1034   \n",
       "3        14.86         23.21          100.40      671.4           0.1044   \n",
       "4        13.77         22.29           90.63      588.9           0.1200   \n",
       "\n",
       "   mean compactness  mean concavity  mean concave points  mean symmetry  \\\n",
       "0            0.2776          0.3001              0.14710         0.2419   \n",
       "1            0.2413          0.1981              0.06618         0.2384   \n",
       "2            0.1353          0.1085              0.04562         0.1943   \n",
       "3            0.1980          0.1697              0.08878         0.1737   \n",
       "4            0.1267          0.1385              0.06526         0.1834   \n",
       "\n",
       "   mean fractal dimension  ...  worst texture  worst perimeter  worst area  \\\n",
       "0                 0.07871  ...          17.33            184.6      2019.0   \n",
       "1                 0.07542  ...          37.18            106.4       762.4   \n",
       "2                 0.06937  ...          39.34            101.7       768.9   \n",
       "3                 0.06672  ...          27.78            118.6       784.7   \n",
       "4                 0.06877  ...          34.01            111.6       806.9   \n",
       "\n",
       "   worst smoothness  worst compactness  worst concavity  worst concave points  \\\n",
       "0            0.1622             0.6656           0.7119                0.2654   \n",
       "1            0.1533             0.9327           0.8488                0.1772   \n",
       "2            0.1785             0.4706           0.4425                0.1459   \n",
       "3            0.1316             0.4648           0.4589                0.1727   \n",
       "4            0.1737             0.3122           0.3809                0.1673   \n",
       "\n",
       "   worst symmetry  worst fractal dimension  target  \n",
       "0          0.4601                  0.11890       0  \n",
       "1          0.5166                  0.14460       0  \n",
       "2          0.3215                  0.12050       0  \n",
       "3          0.3000                  0.08701       0  \n",
       "4          0.3080                  0.09333       0  \n",
       "\n",
       "[5 rows x 31 columns]"
      ]
     },
     "execution_count": 2,
     "metadata": {},
     "output_type": "execute_result"
    }
   ],
   "source": [
    "bcDF = pd.DataFrame(bcDB.data, columns= list(bcDB['feature_names']))\n",
    "bcDF['target'] = pd.Series(bcDB.target)\n",
    "bcDF = bcDF.sort_values(by = ['target'])\n",
    "bcDF = bcDF.reset_index(drop=True)\n",
    "bcDF.head(5)"
   ]
  },
  {
   "cell_type": "code",
   "execution_count": 3,
   "metadata": {},
   "outputs": [
    {
     "name": "stdout",
     "output_type": "stream",
     "text": [
      "212 malignant\n",
      "357 benign\n"
     ]
    }
   ],
   "source": [
    "vc = bcDF['target'].value_counts()\n",
    "for i,j in enumerate(bcDB.target_names):\n",
    "    print (vc[i],j)"
   ]
  },
  {
   "cell_type": "code",
   "execution_count": 4,
   "metadata": {},
   "outputs": [
    {
     "data": {
      "text/plain": [
       "((569, 30), (569,))"
      ]
     },
     "execution_count": 4,
     "metadata": {},
     "output_type": "execute_result"
    }
   ],
   "source": [
    "y = bcDF.pop('target').values\n",
    "X = bcDF.values\n",
    "X.shape, y.shape"
   ]
  },
  {
   "cell_type": "markdown",
   "metadata": {},
   "source": [
    "## $k$-NN\n",
    "Malignant is the minority class at ~40%. k-NN classifier picks up this under-representation and accentuates it, predicting just 36% malignant. \n",
    "k-NN classifier is bais towards the majority class as the predicted score is 36%."
   ]
  },
  {
   "cell_type": "code",
   "execution_count": 5,
   "metadata": {},
   "outputs": [
    {
     "name": "stdout",
     "output_type": "stream",
     "text": [
      "(426, 30) (143, 30)\n",
      "Malignant in test set : 0.40\n",
      "Predicted malignant : 0.36\n"
     ]
    }
   ],
   "source": [
    "from sklearn.neighbors import KNeighborsClassifier\n",
    "from sklearn.model_selection import train_test_split\n",
    "\n",
    "kNN = KNeighborsClassifier(n_neighbors=3)\n",
    "\n",
    "X_train, X_test, y_train, y_test = train_test_split(X, y, random_state=2)\n",
    "y_pred = kNN.fit(X_train, y_train).predict(X_test)\n",
    "print(X_train.shape,X_test.shape)\n",
    "\n",
    "y_test.sum()/len(y_test)\n",
    "\n",
    "print(\"Malignant in test set : %0.2f\" % (1- (y_test.sum()/len(y_test))))\n",
    "print(\"Predicted malignant : %0.2f\" % (1- (y_pred.sum()/len(y_pred))))"
   ]
  },
  {
   "cell_type": "markdown",
   "metadata": {},
   "source": [
    "# Decision Tree Classifier\n",
    "Malignant is the minority class at ~40%. Decision Tree Classifier picks up this under-representation and accentuates it, predicting just 38% malignant. Decision Tree Classifier is also slighly bias towards the majority class as the predicted score is 38%. "
   ]
  },
  {
   "cell_type": "code",
   "execution_count": 6,
   "metadata": {},
   "outputs": [
    {
     "name": "stdout",
     "output_type": "stream",
     "text": [
      "(426, 30) (143, 30)\n",
      "Malignant in test set : 0.40\n",
      "Predicted malignant : 0.41\n"
     ]
    }
   ],
   "source": [
    "from sklearn.tree import DecisionTreeClassifier\n",
    "from sklearn.model_selection import train_test_split\n",
    "\n",
    "DT = DecisionTreeClassifier(criterion='entropy')\n",
    "\n",
    "X_train, X_test, y_train, y_test = train_test_split(X, y, random_state=2)\n",
    "y_pred = DT.fit(X_train, y_train).predict(X_test)\n",
    "print(X_train.shape,X_test.shape)\n",
    "\n",
    "y_test.sum()/len(y_test)\n",
    "\n",
    "print(\"Malignant in test set : %0.2f\" % (1- (y_test.sum()/len(y_test))))\n",
    "print(\"Predicted malignant : %0.2f\" % (1- (y_pred.sum()/len(y_pred))))\n"
   ]
  },
  {
   "cell_type": "markdown",
   "metadata": {},
   "source": [
    "# Logistic Regression\n",
    "Malignant is the minority class at ~40%.  \n",
    "Logistic Regression Classifier picks up this under-representation and accentuates it, predicting just 37% malignant. \n",
    "Logistic Regression Classifier is also bias towards the majority class as the predicted score is 37%."
   ]
  },
  {
   "cell_type": "code",
   "execution_count": 7,
   "metadata": {
    "scrolled": true
   },
   "outputs": [
    {
     "name": "stdout",
     "output_type": "stream",
     "text": [
      "(426, 30) (143, 30)\n",
      "Malignant in test set : 0.40\n",
      "Predicted malignant : 0.37\n"
     ]
    }
   ],
   "source": [
    "from sklearn.linear_model import LogisticRegression\n",
    "\n",
    "LR = LogisticRegression(solver = 'liblinear')\n",
    "\n",
    "X_train, X_test, y_train, y_test = train_test_split(X, y, random_state=2)\n",
    "y_pred = LR.fit(X_train, y_train).predict(X_test)\n",
    "print(X_train.shape,X_test.shape)\n",
    "\n",
    "y_test.sum()/len(y_test)\n",
    "\n",
    "print(\"Malignant in test set : %0.2f\" % (1- (y_test.sum()/len(y_test))))\n",
    "print(\"Predicted malignant : %0.2f\" % (1- (y_pred.sum()/len(y_pred))))"
   ]
  },
  {
   "cell_type": "markdown",
   "metadata": {},
   "source": [
    "# Gaussian Naive Bayes\n",
    "Naive Bayes is probability based learning. \n",
    "Malignant is the minority class at ~40%.  \n",
    "Gaussian Naive Bayes picks up this under-representation and accentuates it, predicting just 39% malignant. \n",
    "Gaussian Naive Bayes is very slighly bias towards the majority class as the predicted score is 39%."
   ]
  },
  {
   "cell_type": "code",
   "execution_count": 8,
   "metadata": {},
   "outputs": [
    {
     "name": "stdout",
     "output_type": "stream",
     "text": [
      "(426, 30) (143, 30)\n",
      "Malignant in test set : 0.40\n",
      "Predicted malignant : 0.39\n"
     ]
    }
   ],
   "source": [
    "from sklearn.naive_bayes import GaussianNB\n",
    "\n",
    "m3 = GaussianNB()\n",
    "\n",
    "X_train, X_test, y_train, y_test = train_test_split(X, y, random_state=2)\n",
    "y_pred = m3.fit(X_train, y_train).predict(X_test)\n",
    "print(X_train.shape,X_test.shape)\n",
    "\n",
    "y_test.sum()/len(y_test)\n",
    "\n",
    "print(\"Malignant in test set : %0.2f\" % (1- (y_test.sum()/len(y_test))))\n",
    "print(\"Predicted malignant : %0.2f\" % (1- (y_pred.sum()/len(y_pred))))"
   ]
  },
  {
   "cell_type": "markdown",
   "metadata": {},
   "source": [
    "# Multinomial Naive Bayes\n",
    "Malignant is the minority class at ~40%.  \n",
    "Multinomial Naive Bayes picks up this under-representation and accentuates it, predicting just 30% malignant.\n",
    "Multinomail Naive Bayes is highly bias towards the majority class as the predicted score is 30%."
   ]
  },
  {
   "cell_type": "code",
   "execution_count": 9,
   "metadata": {},
   "outputs": [
    {
     "name": "stdout",
     "output_type": "stream",
     "text": [
      "(426, 30) (143, 30)\n",
      "Malignant in test set : 0.40\n",
      "Predicted malignant : 0.30\n"
     ]
    }
   ],
   "source": [
    "from sklearn.naive_bayes import MultinomialNB\n",
    "\n",
    "m1 = MultinomialNB()\n",
    "\n",
    "X_train, X_test, y_train, y_test = train_test_split(X, y, random_state=2)\n",
    "y_pred = m1.fit(X_train, y_train).predict(X_test)\n",
    "print(X_train.shape,X_test.shape)\n",
    "\n",
    "y_test.sum()/len(y_test)\n",
    "\n",
    "print(\"Malignant in test set : %0.2f\" % (1- (y_test.sum()/len(y_test))))\n",
    "print(\"Predicted malignant : %0.2f\" % (1- (y_pred.sum()/len(y_pred))))"
   ]
  },
  {
   "cell_type": "markdown",
   "metadata": {},
   "source": [
    "# Complement Naive Bayes\n",
    "Malignant is the minority class at ~40%.  \n",
    "Complement Naive Bayes picks up this under-representation and accentuates it, predicting just 31% malignant.\n",
    "Complement Naive Bayes is highly bias towards the majority class as the predicted score is 31%."
   ]
  },
  {
   "cell_type": "code",
   "execution_count": 10,
   "metadata": {},
   "outputs": [
    {
     "name": "stdout",
     "output_type": "stream",
     "text": [
      "(426, 30) (143, 30)\n",
      "Malignant in test set : 0.40\n",
      "Predicted malignant : 0.31\n"
     ]
    }
   ],
   "source": [
    "from sklearn.naive_bayes import ComplementNB\n",
    "\n",
    "m2 = ComplementNB()\n",
    "\n",
    "X_train, X_test, y_train, y_test = train_test_split(X, y, random_state=2)\n",
    "y_pred = m2.fit(X_train, y_train).predict(X_test)\n",
    "print(X_train.shape,X_test.shape)\n",
    "\n",
    "y_test.sum()/len(y_test)\n",
    "\n",
    "print(\"Malignant in test set : %0.2f\" % (1- (y_test.sum()/len(y_test))))\n",
    "print(\"Predicted malignant : %0.2f\" % (1- (y_pred.sum()/len(y_pred))))\n"
   ]
  },
  {
   "cell_type": "markdown",
   "metadata": {},
   "source": [
    "# Hold Out Testing\n",
    "The dataset is divided into train set and test set. In this, I have set the test_size to 0.2. So, 80% data is for training and 20% of data is for testing. Test data is used to see how well does the model performs. The accuracy score is calculated for test set. \n",
    "Logestic Regression has heighest accuracy of 94%. Multinomail and complement naive bayes has lowest accuracy of 87%.\n",
    "Accuracy score is not enough to justify the bias, as the predicted value might be because of the majority class.\n"
   ]
  },
  {
   "cell_type": "code",
   "execution_count": 11,
   "metadata": {},
   "outputs": [
    {
     "name": "stdout",
     "output_type": "stream",
     "text": [
      "Accuracy Score\n",
      "The accuracy score on Test set KNeighborsClassifier   0.91\n",
      "The accuracy score on Test set DecisionTreeClassifier 0.92\n",
      "The accuracy score on Test set LogisticRegression     0.94\n",
      "The accuracy score on Test set GaussianNB             0.88\n",
      "The accuracy score on Test set MultinomialNB          0.87\n",
      "The accuracy score on Test set ComplementNB           0.87\n"
     ]
    }
   ],
   "source": [
    "from sklearn.metrics import f1_score\n",
    "from sklearn.metrics import accuracy_score\n",
    "\n",
    "models = [kNN,DT,LR,m3,m1,m2]\n",
    "\n",
    "X_train1, X_test1, y_train1, y_test1 = train_test_split(X, y, random_state=2, test_size=0.2)\n",
    "print('Accuracy Score')\n",
    "for m in models:\n",
    "    mm = m.fit(X_train1, y_train1)\n",
    "    y_pred1 = mm.predict(X_test1)\n",
    "    a = accuracy_score(y_test1, y_pred1) \n",
    "    print(\"The accuracy score on Test set {:22} {:.2f}\".format(type(m).__name__, a)) "
   ]
  },
  {
   "cell_type": "markdown",
   "metadata": {},
   "source": [
    "# Cross Validation \n",
    "In cross validation the data set is split into k folds and the each fold or group is used as the test set and the rest as training set. Here, the folds is set to 4, so this is 4-folds corss validation. Logistic Regression has the lowest false positive, 8% and true positive of 97%. \n",
    "\n",
    "The TN rate of k-NN classifier is 87% and it's TP rate is 96%, so this classifier is baised towards the majority class.\n",
    "\n",
    "The TN rate of  Decision Tree Classfier is 90% and it's TP rate is 94%, so the classifier is not much baised towards the majority class.\n",
    "\n",
    "The TN rate of Logistic Regression Classifier is 92% and it's TP rate is 97%, so this classifier is slightly baised towards the majority class.\n",
    "\n",
    "The TN rate of Gaussian Naive Bayes Classifier is 89% and it's TP rate is 97%, so this classifier is highly baised towards the majority class.\n",
    "\n",
    "The TN rate of Multinomial Naive Bayes Classifier is 77% and it's TP rate is 97%, so this classifier is the most baised towards the majority class.\n",
    "\n",
    "The TN rate of Complement Naive Bayes Classifier is 77% and it's TP rate is 97%, so this classifier is the most baised towards the majority class.\n"
   ]
  },
  {
   "cell_type": "code",
   "execution_count": 12,
   "metadata": {},
   "outputs": [],
   "source": [
    "from sklearn.model_selection import cross_validate\n",
    "from sklearn.metrics import make_scorer\n",
    "from sklearn.metrics import confusion_matrix\n",
    "def tp(y_true, y_pred): return confusion_matrix(y_true, y_pred)[1, 1]\n",
    "def tn(y_true, y_pred): return confusion_matrix(y_true, y_pred)[0, 0]\n",
    "def fp(y_true, y_pred): return confusion_matrix(y_true, y_pred)[0, 1]\n",
    "def fn(y_true, y_pred): return confusion_matrix(y_true, y_pred)[1, 0]\n",
    "scoring = {'tp' : make_scorer(tp), 'tn' : make_scorer(tn),\n",
    "           'fp' : make_scorer(fp), 'fn' : make_scorer(fn)}\n",
    "\n",
    "models = [kNN,DT,LR,m3,m1,m2]\n",
    "\n",
    "folds = 4\n",
    "v = 0 "
   ]
  },
  {
   "cell_type": "code",
   "execution_count": 13,
   "metadata": {},
   "outputs": [
    {
     "name": "stdout",
     "output_type": "stream",
     "text": [
      "4 x CV KNeighborsClassifier   FP: 0.13  TP: 0.96 TN: 0.87\n",
      "4 x CV DecisionTreeClassifier FP: 0.09  TP: 0.94 TN: 0.91\n",
      "4 x CV LogisticRegression     FP: 0.08  TP: 0.97 TN: 0.92\n",
      "4 x CV GaussianNB             FP: 0.11  TP: 0.97 TN: 0.89\n",
      "4 x CV MultinomialNB          FP: 0.23  TP: 0.97 TN: 0.77\n",
      "4 x CV ComplementNB           FP: 0.23  TP: 0.97 TN: 0.77\n"
     ]
    }
   ],
   "source": [
    "TNP = []\n",
    "for m in models:\n",
    "    cv_results = cross_validate(m, X, y, cv= folds,scoring=scoring, return_train_score=False, \n",
    "                                    verbose = v, n_jobs = -1)\n",
    "    fp_rate = cv_results['test_fp'].sum()/(cv_results['test_fp'].sum()+cv_results['test_tn'].sum())\n",
    "    tp_rate = cv_results['test_tp'].sum()/(cv_results['test_tp'].sum()+cv_results['test_fn'].sum())\n",
    "    tn_rate = cv_results['test_tn'].sum()/(cv_results['test_tn'].sum()+cv_results['test_fp'].sum())\n",
    "    TNP.append(round(tn_rate,2))\n",
    "  \n",
    "    print(\"{} x CV {:22} FP: {:.2f}  TP: {:.2f} TN: {:.2f}\".format(folds, type(m).__name__, fp_rate, tp_rate, tn_rate)) "
   ]
  },
  {
   "cell_type": "markdown",
   "metadata": {},
   "source": [
    "# Classifier Predicted Score Plot\n",
    "The graph is plotted below. \n",
    "\n",
    "It can be observed that Logestic Regression has the highest TN rate, 92%. This classifier is slightly baised towards the majority class.\n",
    "\n",
    "Decision Tree Classifier has the TN rate of 90%. This classifer is also slightly baised towards the majority class.\n",
    "\n",
    "k-NN classifier has the TN rate of 87%. This classifer is baised towards the majority class.\n",
    "\n",
    "Gaussian Naive Bayes Classifier has the TN rate of 89%. This classifer is highly baised towards the majority class.\n",
    "\n",
    "Multinomial and Complement Naive Bayes Classifier has the TN rate of 77%. These classifers are the most baised towards the majority class.\n"
   ]
  },
  {
   "cell_type": "code",
   "execution_count": 15,
   "metadata": {},
   "outputs": [
    {
     "name": "stdout",
     "output_type": "stream",
     "text": [
      "[0.87, 0.91, 0.92, 0.89, 0.77, 0.77]\n"
     ]
    },
    {
     "data": {
      "image/png": "[encoded data removed]",
      "text/plain": [
       "<Figure size 432x288 with 1 Axes>"
      ]
     },
     "metadata": {
      "needs_background": "light"
     },
     "output_type": "display_data"
    },
    {
     "data": {
      "text/plain": [
       "<Figure size 432x288 with 0 Axes>"
      ]
     },
     "metadata": {},
     "output_type": "display_data"
    }
   ],
   "source": [
    "import matplotlib.pyplot as plt\n",
    "import numpy as np\n",
    "from matplotlib import colors\n",
    "from matplotlib.ticker import PercentFormatter\n",
    "\n",
    "Yplot = TNP\n",
    "print(Yplot)\n",
    "plt.xlabel('Classifier')\n",
    "plt.ylabel('TN SCores')\n",
    "plt.bar(['KNN', 'DT', 'LR', 'GNB', 'MNB', 'CNB'], Yplot, 0.5)\n",
    "plt.figure()\n",
    "plt.show()"
   ]
  },
  {
   "cell_type": "markdown",
   "metadata": {},
   "source": [
    "# Over Sampling\n",
    "Random over sampler is used to overcome the bias. This generates artificial data and overcomes the bias. The random state is set to 2. "
   ]
  },
  {
   "cell_type": "code",
   "execution_count": 16,
   "metadata": {},
   "outputs": [
    {
     "name": "stdout",
     "output_type": "stream",
     "text": [
      "(714, 30) (714,)\n"
     ]
    }
   ],
   "source": [
    "from imblearn.over_sampling import RandomOverSampler\n",
    "ros = RandomOverSampler(random_state=2)\n",
    "X_resampled, y_resampled = ros.fit_resample(X, y)\n",
    "print(X_resampled.shape, y_resampled.shape)\n",
    "X_train, X_test, y_train, y_test = train_test_split(X_resampled, y_resampled, random_state=2)"
   ]
  },
  {
   "cell_type": "markdown",
   "metadata": {},
   "source": [
    "The malignant is now balanced class at 50%. \n",
    "\n",
    "Oversampling has balanced the data. \n",
    "\n",
    "The predicted Maligant using k-NN classifier is 45%, so it has almost overcome the bias.\n",
    "\n",
    "\n",
    "The predicted Maligant using Decision Tree classifier is 51%, it has overcomed the bias, but now it is based towards the minority class.\n",
    "\n",
    "\n",
    "The predicted Maligant using Logistic Regression classifier is 46%, so it has almost overcome the bias.\n",
    "\n",
    "\n",
    "The predicted Maligant using Gaussian Naive Bayes classifier is 44%, which shows the classifier is still biased.\n",
    "\n",
    "\n",
    "The predicted Maligant using Multinomial Naive Bayes Classifier is 37%, Which shows that the classifier is biased. \n",
    "\n",
    "\n",
    "The predicted Maligant using Complement Naive Bayes classifier is 37%, Which shows that the classifier is biased. "
   ]
  },
  {
   "cell_type": "code",
   "execution_count": 17,
   "metadata": {},
   "outputs": [
    {
     "name": "stdout",
     "output_type": "stream",
     "text": [
      "KNeighborsClassifier\n",
      "(535, 30) (179, 30)\n",
      "Malignant in test set : 0.50\n",
      "Predicted malignant : 0.45\n",
      "DecisionTreeClassifier\n",
      "(535, 30) (179, 30)\n",
      "Malignant in test set : 0.50\n",
      "Predicted malignant : 0.50\n",
      "LogisticRegression\n",
      "(535, 30) (179, 30)\n",
      "Malignant in test set : 0.50\n",
      "Predicted malignant : 0.46\n",
      "GaussianNB\n",
      "(535, 30) (179, 30)\n",
      "Malignant in test set : 0.50\n",
      "Predicted malignant : 0.44\n",
      "MultinomialNB\n",
      "(535, 30) (179, 30)\n",
      "Malignant in test set : 0.50\n",
      "Predicted malignant : 0.37\n",
      "ComplementNB\n",
      "(535, 30) (179, 30)\n",
      "Malignant in test set : 0.50\n",
      "Predicted malignant : 0.37\n"
     ]
    }
   ],
   "source": [
    "models = [kNN,DT,LR,m3,m1,m2]\n",
    "for m in models:\n",
    "    print(type(m).__name__)\n",
    "\n",
    "    y_pred = m.fit(X_train, y_train).predict(X_test)\n",
    "    print(X_train.shape,X_test.shape)\n",
    "    y_test.sum()/len(y_test)\n",
    "    print(\"Malignant in test set : %0.2f\" % (1- (y_test.sum()/len(y_test))))\n",
    "    print(\"Predicted malignant : %0.2f\" % (1- (y_pred.sum()/len(y_pred))))"
   ]
  },
  {
   "cell_type": "markdown",
   "metadata": {},
   "source": [
    "# Hold Out Testing\n",
    "The overall accuracy of all the classifiers improved. \n",
    "\n",
    "Logistic regression Classifier has 95% accuracy. This classifier has the highest accuracy.\n",
    "\n",
    "Decision tree Classifier has 94% accuracy.\n",
    "\n",
    "Gaussian Naive Bayes Classifier has 93% accuracy.\n",
    "\n",
    "k-NN Classifier has 92% accuracy.\n",
    "\n",
    "\n",
    "Multinomial and Complement Naive Bayes Classifier has 85% accuracy. These classifiers have the lowest accuracy. \n",
    "\n",
    "The accuracy scores of all classifiers improved after oversampling. Oversampling produced a balanced dataset. Multinomial and Complement Naive Bayes Classifier are still biased after oversampling.\n",
    "\n"
   ]
  },
  {
   "cell_type": "code",
   "execution_count": 18,
   "metadata": {},
   "outputs": [
    {
     "name": "stdout",
     "output_type": "stream",
     "text": [
      "Accuraqcy Score\n",
      "Accuracy Score on Test set KNeighborsClassifier   0.92\n",
      "Accuracy Score on Test set DecisionTreeClassifier 0.94\n",
      "Accuracy Score on Test set LogisticRegression     0.95\n",
      "Accuracy Score on Test set GaussianNB             0.93\n",
      "Accuracy Score on Test set MultinomialNB          0.85\n",
      "Accuracy Score on Test set ComplementNB           0.85\n"
     ]
    }
   ],
   "source": [
    "from sklearn.metrics import accuracy_score\n",
    "\n",
    "models = [kNN,DT,LR,m3,m1,m2]\n",
    "\n",
    "X_train1, X_test1, y_train1, y_test1 = train_test_split(X, y, random_state=0, test_size=1/3)\n",
    "print('Accuraqcy Score')\n",
    "for m in models:\n",
    "    mm = m.fit(X_train, y_train)\n",
    "    y_pred = mm.predict(X_test)\n",
    "    f1s = accuracy_score(y_test, y_pred) \n",
    "    print(\"Accuracy Score on Test set {:22} {:.2f}\".format(type(m).__name__, f1s)) "
   ]
  },
  {
   "cell_type": "markdown",
   "metadata": {},
   "source": [
    "\n",
    "The minority class in the dataset is reviewNotHelpfulness, at 38%.\n",
    "\n",
    "Predicted score for the minority class using k-NN classifier is 30%. The classifier is biased towards the majority class.\n",
    "\n",
    "Predicted score for the minority class using Decision Tress classifier is 27%. The classifier is highly biased towards the majority class.\n",
    "\n",
    "Predicted score for the minority class using Logistic Regression classifier is 21%. The classifier is highy biased towards the majority class.\n",
    "\n",
    "Predicted score for the minority class using Gaussian Naive Bayes classifier is 35%. The classifier is slightly biased towards the majority class.\n",
    "\n",
    "Logistic Regression Classifier is most biased."
   ]
  },
  {
   "cell_type": "code",
   "execution_count": 19,
   "metadata": {},
   "outputs": [
    {
     "data": {
      "text/html": [
       "<div>\n",
       "<style scoped>\n",
       "    .dataframe tbody tr th:only-of-type {\n",
       "        vertical-align: middle;\n",
       "    }\n",
       "\n",
       "    .dataframe tbody tr th {\n",
       "        vertical-align: top;\n",
       "    }\n",
       "\n",
       "    .dataframe thead th {\n",
       "        text-align: right;\n",
       "    }\n",
       "</style>\n",
       "<table border=\"1\" class=\"dataframe\">\n",
       "  <thead>\n",
       "    <tr style=\"text-align: right;\">\n",
       "      <th></th>\n",
       "      <th>aveHelpfulnessRatioUser</th>\n",
       "      <th>stdevHelpfulnessRatioUser</th>\n",
       "      <th>pcReviewsExceedMinHelpfulnessSupport</th>\n",
       "      <th>numReviewsUser</th>\n",
       "      <th>numReviewsHotel</th>\n",
       "      <th>ratingUser</th>\n",
       "      <th>numberSubRatingsUser</th>\n",
       "      <th>subRatingMeanUser</th>\n",
       "      <th>subRatingStdevUser</th>\n",
       "      <th>aveRatingUser</th>\n",
       "      <th>...</th>\n",
       "      <th>completeness_1</th>\n",
       "      <th>completeness_2</th>\n",
       "      <th>completeness_3</th>\n",
       "      <th>numberTermsEntry</th>\n",
       "      <th>percentageAlphaCharsEntry</th>\n",
       "      <th>fractionUpperCaseCharsEntry</th>\n",
       "      <th>fractionYouVsIEntry</th>\n",
       "      <th>numberTermsSummaryQuote</th>\n",
       "      <th>percentageAlphaCharsSummaryQuote</th>\n",
       "      <th>fractionUpperCaseCharsSummaryQuote</th>\n",
       "    </tr>\n",
       "  </thead>\n",
       "  <tbody>\n",
       "    <tr>\n",
       "      <th>0</th>\n",
       "      <td>1.000000</td>\n",
       "      <td>0.000000</td>\n",
       "      <td>0.666667</td>\n",
       "      <td>3</td>\n",
       "      <td>16</td>\n",
       "      <td>5</td>\n",
       "      <td>4</td>\n",
       "      <td>4.000000</td>\n",
       "      <td>0.000000</td>\n",
       "      <td>4.333333</td>\n",
       "      <td>...</td>\n",
       "      <td>2</td>\n",
       "      <td>0</td>\n",
       "      <td>1</td>\n",
       "      <td>182</td>\n",
       "      <td>0.788474</td>\n",
       "      <td>0.025703</td>\n",
       "      <td>0.500000</td>\n",
       "      <td>6</td>\n",
       "      <td>0.815789</td>\n",
       "      <td>0.096774</td>\n",
       "    </tr>\n",
       "    <tr>\n",
       "      <th>1</th>\n",
       "      <td>0.772487</td>\n",
       "      <td>0.377321</td>\n",
       "      <td>0.500000</td>\n",
       "      <td>12</td>\n",
       "      <td>233</td>\n",
       "      <td>5</td>\n",
       "      <td>0</td>\n",
       "      <td>0.000000</td>\n",
       "      <td>0.000000</td>\n",
       "      <td>4.333333</td>\n",
       "      <td>...</td>\n",
       "      <td>2</td>\n",
       "      <td>0</td>\n",
       "      <td>0</td>\n",
       "      <td>158</td>\n",
       "      <td>0.791888</td>\n",
       "      <td>0.012594</td>\n",
       "      <td>0.500000</td>\n",
       "      <td>1</td>\n",
       "      <td>1.000000</td>\n",
       "      <td>0.083333</td>\n",
       "    </tr>\n",
       "    <tr>\n",
       "      <th>2</th>\n",
       "      <td>0.715473</td>\n",
       "      <td>0.300437</td>\n",
       "      <td>0.833333</td>\n",
       "      <td>12</td>\n",
       "      <td>302</td>\n",
       "      <td>4</td>\n",
       "      <td>7</td>\n",
       "      <td>3.714286</td>\n",
       "      <td>0.755929</td>\n",
       "      <td>4.166667</td>\n",
       "      <td>...</td>\n",
       "      <td>5</td>\n",
       "      <td>0</td>\n",
       "      <td>3</td>\n",
       "      <td>59</td>\n",
       "      <td>0.799639</td>\n",
       "      <td>0.024831</td>\n",
       "      <td>0.333333</td>\n",
       "      <td>4</td>\n",
       "      <td>0.828571</td>\n",
       "      <td>0.034483</td>\n",
       "    </tr>\n",
       "    <tr>\n",
       "      <th>3</th>\n",
       "      <td>0.521250</td>\n",
       "      <td>0.481675</td>\n",
       "      <td>0.222222</td>\n",
       "      <td>36</td>\n",
       "      <td>6</td>\n",
       "      <td>1</td>\n",
       "      <td>4</td>\n",
       "      <td>1.000000</td>\n",
       "      <td>0.000000</td>\n",
       "      <td>3.527778</td>\n",
       "      <td>...</td>\n",
       "      <td>2</td>\n",
       "      <td>0</td>\n",
       "      <td>0</td>\n",
       "      <td>95</td>\n",
       "      <td>0.782212</td>\n",
       "      <td>0.029155</td>\n",
       "      <td>0.500000</td>\n",
       "      <td>2</td>\n",
       "      <td>0.800000</td>\n",
       "      <td>0.062500</td>\n",
       "    </tr>\n",
       "    <tr>\n",
       "      <th>4</th>\n",
       "      <td>0.603175</td>\n",
       "      <td>0.246926</td>\n",
       "      <td>1.000000</td>\n",
       "      <td>2</td>\n",
       "      <td>271</td>\n",
       "      <td>3</td>\n",
       "      <td>0</td>\n",
       "      <td>0.000000</td>\n",
       "      <td>0.000000</td>\n",
       "      <td>3.500000</td>\n",
       "      <td>...</td>\n",
       "      <td>0</td>\n",
       "      <td>0</td>\n",
       "      <td>0</td>\n",
       "      <td>43</td>\n",
       "      <td>0.805128</td>\n",
       "      <td>0.028662</td>\n",
       "      <td>0.000000</td>\n",
       "      <td>1</td>\n",
       "      <td>1.000000</td>\n",
       "      <td>0.142857</td>\n",
       "    </tr>\n",
       "  </tbody>\n",
       "</table>\n",
       "<p>5 rows × 23 columns</p>\n",
       "</div>"
      ],
      "text/plain": [
       "   aveHelpfulnessRatioUser  stdevHelpfulnessRatioUser  \\\n",
       "0                 1.000000                   0.000000   \n",
       "1                 0.772487                   0.377321   \n",
       "2                 0.715473                   0.300437   \n",
       "3                 0.521250                   0.481675   \n",
       "4                 0.603175                   0.246926   \n",
       "\n",
       "   pcReviewsExceedMinHelpfulnessSupport  numReviewsUser  numReviewsHotel  \\\n",
       "0                              0.666667               3               16   \n",
       "1                              0.500000              12              233   \n",
       "2                              0.833333              12              302   \n",
       "3                              0.222222              36                6   \n",
       "4                              1.000000               2              271   \n",
       "\n",
       "   ratingUser  numberSubRatingsUser  subRatingMeanUser  subRatingStdevUser  \\\n",
       "0           5                     4           4.000000            0.000000   \n",
       "1           5                     0           0.000000            0.000000   \n",
       "2           4                     7           3.714286            0.755929   \n",
       "3           1                     4           1.000000            0.000000   \n",
       "4           3                     0           0.000000            0.000000   \n",
       "\n",
       "   aveRatingUser  ...  completeness_1  completeness_2  completeness_3  \\\n",
       "0       4.333333  ...               2               0               1   \n",
       "1       4.333333  ...               2               0               0   \n",
       "2       4.166667  ...               5               0               3   \n",
       "3       3.527778  ...               2               0               0   \n",
       "4       3.500000  ...               0               0               0   \n",
       "\n",
       "   numberTermsEntry  percentageAlphaCharsEntry  fractionUpperCaseCharsEntry  \\\n",
       "0               182                   0.788474                     0.025703   \n",
       "1               158                   0.791888                     0.012594   \n",
       "2                59                   0.799639                     0.024831   \n",
       "3                95                   0.782212                     0.029155   \n",
       "4                43                   0.805128                     0.028662   \n",
       "\n",
       "   fractionYouVsIEntry  numberTermsSummaryQuote  \\\n",
       "0             0.500000                        6   \n",
       "1             0.500000                        1   \n",
       "2             0.333333                        4   \n",
       "3             0.500000                        2   \n",
       "4             0.000000                        1   \n",
       "\n",
       "   percentageAlphaCharsSummaryQuote  fractionUpperCaseCharsSummaryQuote  \n",
       "0                          0.815789                            0.096774  \n",
       "1                          1.000000                            0.083333  \n",
       "2                          0.828571                            0.034483  \n",
       "3                          0.800000                            0.062500  \n",
       "4                          1.000000                            0.142857  \n",
       "\n",
       "[5 rows x 23 columns]"
      ]
     },
     "execution_count": 19,
     "metadata": {},
     "output_type": "execute_result"
    }
   ],
   "source": [
    "hotel = pd.read_csv('HotelRevHelpfulnessV2.csv')\n",
    "y = hotel.pop('reviewHelpfulness').values\n",
    "X = hotel.values\n",
    "hotel.head()"
   ]
  },
  {
   "cell_type": "code",
   "execution_count": 20,
   "metadata": {},
   "outputs": [],
   "source": [
    "models = [kNN,DT,LR,m3]"
   ]
  },
  {
   "cell_type": "code",
   "execution_count": 21,
   "metadata": {},
   "outputs": [
    {
     "name": "stdout",
     "output_type": "stream",
     "text": [
      "KNeighborsClassifier\n",
      "(364, 23) (122, 23)\n",
      "Not Helpfulness: 0.38\n",
      "Predicted Not Helpfulness : 0.30\n",
      "DecisionTreeClassifier\n",
      "(364, 23) (122, 23)\n",
      "Not Helpfulness: 0.38\n",
      "Predicted Not Helpfulness : 0.23\n",
      "LogisticRegression\n",
      "(364, 23) (122, 23)\n",
      "Not Helpfulness: 0.38\n",
      "Predicted Not Helpfulness : 0.21\n",
      "GaussianNB\n",
      "(364, 23) (122, 23)\n",
      "Not Helpfulness: 0.38\n",
      "Predicted Not Helpfulness : 0.35\n"
     ]
    }
   ],
   "source": [
    "for m in models:\n",
    "    \n",
    "    X_train, X_test, y_train, y_test = train_test_split(X, y, random_state=2)\n",
    "    y_pred = m.fit(X_train, y_train).predict(X_test)\n",
    "    print(type(m).__name__)\n",
    "\n",
    "    print(X_train.shape,X_test.shape)\n",
    "\n",
    "    y_test.sum()/len(y_test)\n",
    "\n",
    "    print(\"Not Helpfulness: %0.2f\" % (1- (y_test.sum()/len(y_test))))\n",
    "    print(\"Predicted Not Helpfulness : %0.2f\" % (1- (y_pred.sum()/len(y_pred))))"
   ]
  },
  {
   "cell_type": "markdown",
   "metadata": {},
   "source": [
    "# Hold Out Testing\n",
    "The dataset is divided into train set and test set. In this, I have set the test_size to 0.2. So, 80% data is for training and 20% of data is for testing. Test data is used to see how well does the model performs. \n",
    "The accuracy score for all classifiers is low. \n",
    "The accuracy score is calculated for test set. Logestic Regression has heighest accuracy of 69%. \n",
    "\n",
    "The accuracy score of k-NN classfier is 62%. It has the lowest accuracy.\n",
    "\n",
    "The accuracy score of Decision Tree classfier is 65%.\n",
    "\n",
    "The accuracy score of Gaussian Naive Bayes classfier is 63%.\n",
    "\n",
    "\n",
    "Accuracy score is not enough to justify the bias, as the predicted value might be because of the majority class."
   ]
  },
  {
   "cell_type": "code",
   "execution_count": 22,
   "metadata": {},
   "outputs": [
    {
     "name": "stdout",
     "output_type": "stream",
     "text": [
      "Accuraqcy Score\n",
      "Accuracy Score on Test set KNeighborsClassifier   0.62\n",
      "Accuracy Score on Test set DecisionTreeClassifier 0.66\n",
      "Accuracy Score on Test set LogisticRegression     0.69\n",
      "Accuracy Score on Test set GaussianNB             0.63\n"
     ]
    }
   ],
   "source": [
    "from sklearn.metrics import accuracy_score\n",
    "\n",
    "models = [kNN,DT,LR,m3]\n",
    "\n",
    "X_train1, X_test1, y_train1, y_test1 = train_test_split(X, y, random_state=0, test_size=1/3)\n",
    "print('Accuraqcy Score')\n",
    "for m in models:\n",
    "    mm = m.fit(X_train, y_train)\n",
    "    y_pred = mm.predict(X_test)\n",
    "    f1s = accuracy_score(y_test, y_pred) \n",
    "    print(\"Accuracy Score on Test set {:22} {:.2f}\".format(type(m).__name__, f1s)) "
   ]
  },
  {
   "cell_type": "markdown",
   "metadata": {},
   "source": [
    "# Cross Validation\n",
    "In cross validation the data set is split into k folds and the each fold or group is used as the test set and the rest as training set. Here, the folds is set to 4, so this is 4-folds corss validation. \n",
    "\n",
    "\n",
    "The TN rate of k-NN classifier is 40% and it's TP rate is 77%, so this classifier is highly baised towards the majority class.\n",
    "\n",
    "The TN rate of Decision Tree Classfier is 57% and it's TP rate is 72%, so the classifier is baised towards the majority class.\n",
    "\n",
    "The TN rate of Logistic Regression Classifier is 43% and it's TP rate is 88%, so this classifier is highly baised towards the majority class.\n",
    "\n",
    "The TN rate of Gaussian Naive Bayes Classifier is 53% and it's TP rate is 73%, so this classifier is baised towards the majority class."
   ]
  },
  {
   "cell_type": "code",
   "execution_count": 23,
   "metadata": {},
   "outputs": [],
   "source": [
    "from sklearn.model_selection import cross_validate\n",
    "from sklearn.metrics import make_scorer\n",
    "from sklearn.metrics import confusion_matrix\n",
    "def tp(y_true, y_pred): return confusion_matrix(y_true, y_pred)[1, 1]\n",
    "def tn(y_true, y_pred): return confusion_matrix(y_true, y_pred)[0, 0]\n",
    "def fp(y_true, y_pred): return confusion_matrix(y_true, y_pred)[0, 1]\n",
    "def fn(y_true, y_pred): return confusion_matrix(y_true, y_pred)[1, 0]\n",
    "scoring = {'tp' : make_scorer(tp), 'tn' : make_scorer(tn),\n",
    "           'fp' : make_scorer(fp), 'fn' : make_scorer(fn)}\n",
    "\n",
    "models = [kNN,DT,LR,m3]\n",
    "\n",
    "folds = 4\n",
    "v = 0 "
   ]
  },
  {
   "cell_type": "code",
   "execution_count": 24,
   "metadata": {},
   "outputs": [
    {
     "name": "stdout",
     "output_type": "stream",
     "text": [
      "4 x CV KNeighborsClassifier   FP: 0.60  TP: 0.77 TN: 0.40\n",
      "4 x CV DecisionTreeClassifier FP: 0.43  TP: 0.71 TN: 0.57\n",
      "4 x CV LogisticRegression     FP: 0.57  TP: 0.88 TN: 0.43\n",
      "4 x CV GaussianNB             FP: 0.47  TP: 0.73 TN: 0.53\n"
     ]
    }
   ],
   "source": [
    "TNP = []\n",
    "for m in models:\n",
    "    cv_results = cross_validate(m, X, y, cv= folds,scoring=scoring, return_train_score=False, \n",
    "                                    verbose = v, n_jobs = -1)\n",
    "    fp_rate = cv_results['test_fp'].sum()/(cv_results['test_fp'].sum()+cv_results['test_tn'].sum())\n",
    "    tp_rate = cv_results['test_tp'].sum()/(cv_results['test_tp'].sum()+cv_results['test_fn'].sum())\n",
    "    tn_rate = cv_results['test_tn'].sum()/(cv_results['test_tn'].sum()+cv_results['test_fp'].sum())\n",
    "    TNP.append(round(tn_rate,2))\n",
    "  \n",
    "    print(\"{} x CV {:22} FP: {:.2f}  TP: {:.2f} TN: {:.2f}\".format(folds, type(m).__name__, fp_rate, tp_rate, tn_rate)) "
   ]
  },
  {
   "cell_type": "markdown",
   "metadata": {},
   "source": [
    "# Classifier Predicted Score Plot\n",
    "The graph is plotted below.\n",
    "\n",
    "It can be observed that Logestic Regression has the low TN rate, 43%. This classifier is baised towards the majority class.\n",
    "\n",
    "Decision Tree Classifier has the TN rate of 60%. This classifer is also slightly baised towards the majority class.\n",
    "\n",
    "k-NN classifier has the TN rate of 40%. This classifer is baised towards the majority class.\n",
    "\n",
    "Gaussian Naive Bayes Classifier has the TN rate of 53%. This classifer is also baised towards the majority class.\n"
   ]
  },
  {
   "cell_type": "code",
   "execution_count": 25,
   "metadata": {},
   "outputs": [
    {
     "name": "stdout",
     "output_type": "stream",
     "text": [
      "[0.4, 0.57, 0.43, 0.53]\n"
     ]
    },
    {
     "data": {
      "image/png": "[encoded data removed]",
      "text/plain": [
       "<Figure size 432x288 with 1 Axes>"
      ]
     },
     "metadata": {
      "needs_background": "light"
     },
     "output_type": "display_data"
    },
    {
     "data": {
      "text/plain": [
       "<Figure size 432x288 with 0 Axes>"
      ]
     },
     "metadata": {},
     "output_type": "display_data"
    }
   ],
   "source": [
    "import matplotlib.pyplot as plt\n",
    "import numpy as np\n",
    "from matplotlib import colors\n",
    "from matplotlib.ticker import PercentFormatter\n",
    "\n",
    "Yplot = TNP\n",
    "print(Yplot)\n",
    "plt.bar(['KNN', 'DT', 'LR', 'GNB'], Yplot, 0.5)\n",
    "plt.xlabel('Classifiers')\n",
    "plt.ylabel('TN Scores')\n",
    "plt.figure()\n",
    "plt.show()"
   ]
  },
  {
   "cell_type": "markdown",
   "metadata": {},
   "source": [
    "# Over Sampling\n",
    "Random over sampler is used to overcome the bias. This generates artificial data and overcomes the bias. The random state is set to 2."
   ]
  },
  {
   "cell_type": "code",
   "execution_count": 26,
   "metadata": {},
   "outputs": [],
   "source": [
    "from imblearn.over_sampling import RandomOverSampler\n",
    "ros = RandomOverSampler(random_state=2)\n",
    "X_resampled, y_resampled = ros.fit_resample(X, y)\n",
    "X_train, X_test, y_train, y_test = train_test_split(X_resampled, y_resampled, random_state=2)"
   ]
  },
  {
   "cell_type": "markdown",
   "metadata": {},
   "source": [
    "After oversampling, more samples of the minority class is produced. We used random oversampler. reviewNotHelpfulness is at 47%.\n",
    "\n",
    "The predicted score of k-NN classifier is 55%. It is now biased towards minority class.\n",
    "\n",
    "The predicted score of Decision Tree classifier is 51%. It is now biased towards minority class.\n",
    "\n",
    "The predicted score of Logistic Regression classifier is 44%. It is now slighly biased towards majority class.\n",
    "\n",
    "The predicted score of Gaussian Naive Bayes Regression classifier is 44%. It is now slighly biased towards majority class.\n",
    "\n",
    "\n"
   ]
  },
  {
   "cell_type": "code",
   "execution_count": 27,
   "metadata": {},
   "outputs": [
    {
     "name": "stdout",
     "output_type": "stream",
     "text": [
      "KNeighborsClassifier\n",
      "(462, 23) (154, 23)\n",
      "Review is not helpfull: 0.47\n",
      "Review is helpfull : 0.55\n",
      "DecisionTreeClassifier\n",
      "(462, 23) (154, 23)\n",
      "Review is not helpfull: 0.47\n",
      "Review is helpfull : 0.55\n",
      "LogisticRegression\n",
      "(462, 23) (154, 23)\n",
      "Review is not helpfull: 0.47\n",
      "Review is helpfull : 0.44\n",
      "GaussianNB\n",
      "(462, 23) (154, 23)\n",
      "Review is not helpfull: 0.47\n",
      "Review is helpfull : 0.44\n"
     ]
    }
   ],
   "source": [
    "models = [kNN,DT,LR,m3]\n",
    "for m in models:\n",
    "    print(type(m).__name__)\n",
    "\n",
    "    y_pred = m.fit(X_train, y_train).predict(X_test)\n",
    "    print(X_train.shape,X_test.shape)\n",
    "    y_test.sum()/len(y_test)\n",
    "    print(\"Review is not helpfull: %0.2f\" % (1- (y_test.sum()/len(y_test))))\n",
    "    print(\"Review is helpfull : %0.2f\" % (1- (y_pred.sum()/len(y_pred))))"
   ]
  },
  {
   "cell_type": "markdown",
   "metadata": {},
   "source": [
    "# Hold Out Testing\n",
    "The overall accuracy of all the classifiers improved. \n",
    "\n",
    "Logistic regression Classifier has 75% accuracy. \n",
    "\n",
    "Decision tree Classifier has 79% accuracy. This classifier has the highest accuracy.\n",
    "\n",
    "Gaussian Naive Bayes Classifier has 68% accuracy.\n",
    "\n",
    "k-NN Classifier has 70% accuracy.\n",
    "\n",
    "\n",
    "The accuracy scores of all classifiers improved after oversampling. \n",
    "\n"
   ]
  },
  {
   "cell_type": "code",
   "execution_count": 28,
   "metadata": {
    "scrolled": true
   },
   "outputs": [
    {
     "name": "stdout",
     "output_type": "stream",
     "text": [
      "Accuracy Score\n",
      "F1 Score on Test set KNeighborsClassifier   0.70\n",
      "F1 Score on Test set DecisionTreeClassifier 0.79\n",
      "F1 Score on Test set LogisticRegression     0.75\n",
      "F1 Score on Test set GaussianNB             0.68\n"
     ]
    }
   ],
   "source": [
    "from sklearn.metrics import accuracy_score\n",
    "\n",
    "models = [kNN,DT,LR,m3]\n",
    "\n",
    "X_train1, X_test1, y_train1, y_test1 = train_test_split(X, y, random_state=0, test_size=1/3)\n",
    "print('Accuracy Score')\n",
    "for m in models:\n",
    "    mm = m.fit(X_train, y_train)\n",
    "    y_pred1 = mm.predict(X_test)\n",
    "    f1s = f1_score(y_test, y_pred1) \n",
    "    print(\"F1 Score on Test set {:22} {:.2f}\".format(type(m).__name__, f1s)) "
   ]
  },
  {
   "cell_type": "markdown",
   "metadata": {},
   "source": [
    "# Cross Validation\n",
    "I performed 5-fold corss validation. \n",
    "\n",
    "The TN rate for logistic regression classifier is 69% and the Tp rate is 68%, so it is not biased. \n",
    "\n",
    "The TN rate for k-NN classifier is 76% and the Tp rate is 64%, so it is biased towards minority class.\n",
    "\n",
    "The TN rate for Decision Tree classifier is 89% and the Tp rate is 70%, so it is highly biased towards minority class.\n",
    "\n",
    "The TN rate for Gaussian Naive Bayes classifier is 65% and the Tp rate is 61%, so it is slightly biased towards minority class.\n",
    "\n",
    "\n"
   ]
  },
  {
   "cell_type": "code",
   "execution_count": 29,
   "metadata": {},
   "outputs": [],
   "source": [
    "from sklearn.model_selection import cross_validate\n",
    "from sklearn.metrics import make_scorer\n",
    "from sklearn.metrics import confusion_matrix\n",
    "def tp(y_true, y_pred): return confusion_matrix(y_true, y_pred)[1, 1]\n",
    "def tn(y_true, y_pred): return confusion_matrix(y_true, y_pred)[0, 0]\n",
    "def fp(y_true, y_pred): return confusion_matrix(y_true, y_pred)[0, 1]\n",
    "def fn(y_true, y_pred): return confusion_matrix(y_true, y_pred)[1, 0]\n",
    "scoring = {'tp' : make_scorer(tp), 'tn' : make_scorer(tn),\n",
    "           'fp' : make_scorer(fp), 'fn' : make_scorer(fn)}\n",
    "\n",
    "models = [kNN,DT,LR,m3]\n",
    "\n",
    "folds = 5\n",
    "v = 0 "
   ]
  },
  {
   "cell_type": "code",
   "execution_count": 30,
   "metadata": {},
   "outputs": [
    {
     "name": "stdout",
     "output_type": "stream",
     "text": [
      "5 x CV KNeighborsClassifier   FP: 0.24  TP: 0.64 TN: 0.76\n",
      "5 x CV DecisionTreeClassifier FP: 0.12  TP: 0.70 TN: 0.88\n",
      "5 x CV LogisticRegression     FP: 0.31  TP: 0.69 TN: 0.69\n",
      "5 x CV GaussianNB             FP: 0.35  TP: 0.61 TN: 0.65\n"
     ]
    }
   ],
   "source": [
    "for m in models:\n",
    "    cv_results = cross_validate(m, X_resampled, y_resampled, cv= folds,scoring=scoring, return_train_score=False, \n",
    "                                    verbose = v, n_jobs = -1)\n",
    "    fp_rate = cv_results['test_fp'].sum()/(cv_results['test_fp'].sum()+cv_results['test_tn'].sum())\n",
    "    tp_rate = cv_results['test_tp'].sum()/(cv_results['test_tp'].sum()+cv_results['test_fn'].sum())\n",
    "    tn_rate = cv_results['test_tn'].sum()/(cv_results['test_tn'].sum()+cv_results['test_fp'].sum())\n",
    "  \n",
    "    print(\"{} x CV {:22} FP: {:.2f}  TP: {:.2f} TN: {:.2f}\".format(folds, type(m).__name__, fp_rate, tp_rate, tn_rate)) "
   ]
  }
 ],
 "metadata": {
  "kernelspec": {
   "display_name": "Python 3",
   "language": "python",
   "name": "python3"
  },
  "language_info": {
   "codemirror_mode": {
    "name": "ipython",
    "version": 3
   },
   "file_extension": ".py",
   "mimetype": "text/x-python",
   "name": "python",
   "nbconvert_exporter": "python",
   "pygments_lexer": "ipython3",
   "version": "3.7.4"
  }
 },
 "nbformat": 4,
 "nbformat_minor": 2
}
